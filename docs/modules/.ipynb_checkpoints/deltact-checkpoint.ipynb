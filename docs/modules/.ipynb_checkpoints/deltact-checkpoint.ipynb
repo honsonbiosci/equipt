{
 "cells": [
  {
   "cell_type": "markdown",
   "id": "ef8532ee-d3b3-4227-b254-72302802ca5d",
   "metadata": {},
   "source": [
    "# deltact"
   ]
  },
  {
   "cell_type": "markdown",
   "id": "2dfbb800-4a48-42fe-8333-29e7d8b224ef",
   "metadata": {},
   "source": [
    "ΔΔCt is the most common metric for quantifying gene expression changes by qPCR. Say you have a group of genes that you hypothesize varies between an experimental sample and a control. In both samples, you perform qPCR for both the genes of interest and some genes that you expect to be constant between the samples. These constant genes, often called housekeeping genes, are essential to the viability of the cell. 18S rRNA, RNA polymerase II, and GAPDH are common examples.\n",
    "\n",
    "To normalize for differences in cDNA input, subtract the average housekeeping gene Ct from the gene of interest Ct to get the ΔCt:\n",
    "\n",
    "$$\n",
    "Ct_{gene of interest} - Ct_{housekeeping} = \\Delta Ct\n",
    "$$\n",
    "\n",
    "Performing this calculation for both the experimental and control samples leaves you with two Ct values for each gene of interest:\n",
    "\n",
    "$$\n",
    "\\Delta Ct_{experimental} \\\\\n",
    "\\Delta Ct_{control}\n",
    "$$\n",
    "\n",
    "Subtracting the control ΔCt from the experimental yields the ΔΔCt:\n",
    "\n",
    "$$\n",
    "\\Delta Ct_{experimental} - \\Delta Ct_{control} = \\Delta \\Delta Ct\n",
    "$$\n",
    "\n",
    "The ΔΔCt is then the normalized cycle difference of the gene of interest between the experimental and control sample. Assuming that the efficiencies of all the primers are approximately 1, the ΔΔCt can be used to calculate fold change in gene expression:\n",
    "\n",
    "$$\n",
    "Fold \\: change = 2^{- \\Delta \\Delta Ct}\n",
    "$$\n",
    "\n",
    "So say that the ΔΔCt value is 1. This indicates that the PCR reaction in the experimental sample took 1 additional cycle to achieve the second derivative maximum than the control sample. Assuming perfect doubling with each cycle, the experimental sample should have half as much of the target transcript as the control:\n",
    "\n",
    "$$\n",
    "2^{-1} = 0.5\n",
    "$$\n",
    "\n",
    "It is worth emphasizing that this method is **semiquantitative**, as it assumes primer efficiencies of 1. [More advanced mathematical models](https://pubmed.ncbi.nlm.nih.gov/11328886/) than equipt currently uses can incorporate empirically determined efficiency values to gain true quantitative gene expression ratios. The \"Further Reading\" section of this document provides additional information on the complexities of relative gene expression using qPCR."
   ]
  },
  {
   "cell_type": "markdown",
   "id": "8490b97a-7f71-4484-a5c7-26a7b630b800",
   "metadata": {},
   "source": [
    "## Importing data with namer"
   ]
  },
  {
   "cell_type": "markdown",
   "id": "58df49ee-c2c8-4a3d-bc76-38873a3a4d88",
   "metadata": {},
   "source": [
    "As with all equipt tools, using `deltact()` begins with labeling the data using `namer()`. For this example, we will examine a dataset for siRNA validation of four genes:"
   ]
  },
  {
   "cell_type": "code",
   "execution_count": 8,
   "id": "175d1dcd-b86a-4c40-bcdd-fed2bc477f62",
   "metadata": {
    "tags": []
   },
   "outputs": [],
   "source": [
    "import equipt"
   ]
  },
  {
   "cell_type": "code",
   "execution_count": 6,
   "id": "62406ebe-e213-4734-8081-76e522f3b0b0",
   "metadata": {
    "tags": []
   },
   "outputs": [
    {
     "data": {
      "text/plain": [
       "12.0"
      ]
     },
     "execution_count": 6,
     "metadata": {},
     "output_type": "execute_result"
    }
   ],
   "source": []
  },
  {
   "cell_type": "code",
   "execution_count": 7,
   "id": "faedcba7-926c-4fc3-8c50-7601946f11e0",
   "metadata": {
    "tags": []
   },
   "outputs": [
    {
     "data": {
      "text/plain": [
       "11.618950038622252"
      ]
     },
     "execution_count": 7,
     "metadata": {},
     "output_type": "execute_result"
    }
   ],
   "source": [
    "from scipy.stats import gmean\n",
    "\n",
    "gmean([9,15])"
   ]
  },
  {
   "cell_type": "code",
   "execution_count": null,
   "id": "0b61bf42-dbc4-4df8-b9dd-d9873abc297d",
   "metadata": {},
   "outputs": [],
   "source": []
  }
 ],
 "metadata": {
  "kernelspec": {
   "display_name": "Python 3 (ipykernel)",
   "language": "python",
   "name": "python3"
  },
  "language_info": {
   "codemirror_mode": {
    "name": "ipython",
    "version": 3
   },
   "file_extension": ".py",
   "mimetype": "text/x-python",
   "name": "python",
   "nbconvert_exporter": "python",
   "pygments_lexer": "ipython3",
   "version": "3.9.17"
  }
 },
 "nbformat": 4,
 "nbformat_minor": 5
}
