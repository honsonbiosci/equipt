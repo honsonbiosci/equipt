{
 "cells": [
  {
   "cell_type": "markdown",
   "id": "2d370b6f-34c7-4238-ba07-3c1e630f9735",
   "metadata": {},
   "source": [
    "# `efficiency()`"
   ]
  },
  {
   "cell_type": "code",
   "execution_count": null,
   "id": "1cd6b69d-75ec-471f-85fe-c2f391784cb3",
   "metadata": {},
   "outputs": [],
   "source": []
  }
 ],
 "metadata": {
  "kernelspec": {
   "display_name": "Python 3 (ipykernel)",
   "language": "python",
   "name": "python3"
  },
  "language_info": {
   "codemirror_mode": {
    "name": "ipython",
    "version": 3
   },
   "file_extension": ".py",
   "mimetype": "text/x-python",
   "name": "python",
   "nbconvert_exporter": "python",
   "pygments_lexer": "ipython3",
   "version": "3.9.17"
  }
 },
 "nbformat": 4,
 "nbformat_minor": 5
}
