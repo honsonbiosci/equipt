{
 "cells": [
  {
   "cell_type": "markdown",
   "id": "ef8532ee-d3b3-4227-b254-72302802ca5d",
   "metadata": {},
   "source": [
    "# deltact"
   ]
  },
  {
   "cell_type": "code",
   "execution_count": null,
   "id": "c1634c48-f683-46ea-8585-167b41841760",
   "metadata": {},
   "outputs": [],
   "source": []
  }
 ],
 "metadata": {
  "kernelspec": {
   "display_name": "Python 3 (ipykernel)",
   "language": "python",
   "name": "python3"
  },
  "language_info": {
   "codemirror_mode": {
    "name": "ipython",
    "version": 3
   },
   "file_extension": ".py",
   "mimetype": "text/x-python",
   "name": "python",
   "nbconvert_exporter": "python",
   "pygments_lexer": "ipython3",
   "version": "3.9.17"
  }
 },
 "nbformat": 4,
 "nbformat_minor": 5
}
