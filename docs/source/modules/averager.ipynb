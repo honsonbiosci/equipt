{
 "cells": [
  {
   "cell_type": "markdown",
   "id": "fbc41bf2-ad45-40fb-a3b4-750cf9c76263",
   "metadata": {},
   "source": [
    "# `averager()`"
   ]
  },
  {
   "cell_type": "markdown",
   "id": "0e2f11b4-84d5-4266-b259-6351e2ae5d31",
   "metadata": {},
   "source": [
    "`averager()` allows the user to check well replicate reproducibility and remove outlier wells systematically. The function can be used independently but is also built into other functions such as `deltact()`. "
   ]
  },
  {
   "cell_type": "markdown",
   "id": "fb1a9bc9-37e3-45fb-a242-ef39e9b770bf",
   "metadata": {},
   "source": [
    "## Using `averager()`"
   ]
  },
  {
   "cell_type": "code",
   "execution_count": 1,
   "id": "765243ae-9ab7-489d-a542-7b155958cc5e",
   "metadata": {
    "tags": []
   },
   "outputs": [],
   "source": [
    "import equipt"
   ]
  },
  {
   "cell_type": "code",
   "execution_count": null,
   "id": "b1146b55-bd74-47d1-9b5c-a4c049dcaa59",
   "metadata": {},
   "outputs": [],
   "source": []
  }
 ],
 "metadata": {
  "kernelspec": {
   "display_name": "Python 3 (ipykernel)",
   "language": "python",
   "name": "python3"
  },
  "language_info": {
   "codemirror_mode": {
    "name": "ipython",
    "version": 3
   },
   "file_extension": ".py",
   "mimetype": "text/x-python",
   "name": "python",
   "nbconvert_exporter": "python",
   "pygments_lexer": "ipython3",
   "version": "3.9.17"
  }
 },
 "nbformat": 4,
 "nbformat_minor": 5
}
