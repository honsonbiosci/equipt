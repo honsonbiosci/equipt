{
 "cells": [
  {
   "cell_type": "markdown",
   "id": "fbc41bf2-ad45-40fb-a3b4-750cf9c76263",
   "metadata": {},
   "source": [
    "# `averager()`"
   ]
  },
  {
   "cell_type": "markdown",
   "id": "0e2f11b4-84d5-4266-b259-6351e2ae5d31",
   "metadata": {},
   "source": [
    "`averager()` allows the user to check well replicate reproducibility and remove outlier wells systematically. The function can be used independently but is also built into other functions such as `deltact()`. "
   ]
  },
  {
   "cell_type": "markdown",
   "id": "fb1a9bc9-37e3-45fb-a242-ef39e9b770bf",
   "metadata": {},
   "source": [
    "## Using `averager()`"
   ]
  },
  {
   "cell_type": "markdown",
   "id": "0b8992eb-a3d5-4117-b557-4cb786bd5809",
   "metadata": {},
   "source": [
    "The first input for `averager()` is the output of `namer()`. In this case, we will use the primer efficiency data used in the `namer()` documentation:"
   ]
  },
  {
   "cell_type": "code",
   "execution_count": 2,
   "id": "b152de80-b87b-43af-8441-c0287d0673d5",
   "metadata": {
    "tags": []
   },
   "outputs": [
    {
     "data": {
      "text/html": [
       "<div>\n",
       "<style scoped>\n",
       "    .dataframe tbody tr th:only-of-type {\n",
       "        vertical-align: middle;\n",
       "    }\n",
       "\n",
       "    .dataframe tbody tr th {\n",
       "        vertical-align: top;\n",
       "    }\n",
       "\n",
       "    .dataframe thead th {\n",
       "        text-align: right;\n",
       "    }\n",
       "</style>\n",
       "<table border=\"1\" class=\"dataframe\">\n",
       "  <thead>\n",
       "    <tr style=\"text-align: right;\">\n",
       "      <th></th>\n",
       "      <th>Pos</th>\n",
       "      <th>Cp</th>\n",
       "      <th>Primer</th>\n",
       "      <th>Name</th>\n",
       "      <th>NamePrim</th>\n",
       "    </tr>\n",
       "  </thead>\n",
       "  <tbody>\n",
       "    <tr>\n",
       "      <th>0</th>\n",
       "      <td>A1</td>\n",
       "      <td>17.51</td>\n",
       "      <td>Fus (112734868c1)</td>\n",
       "      <td>mESC total cDNA_20</td>\n",
       "      <td>mESC total cDNA_20Fus (112734868c1)</td>\n",
       "    </tr>\n",
       "    <tr>\n",
       "      <th>1</th>\n",
       "      <td>A2</td>\n",
       "      <td>17.54</td>\n",
       "      <td>Fus (112734868c1)</td>\n",
       "      <td>mESC total cDNA_20</td>\n",
       "      <td>mESC total cDNA_20Fus (112734868c1)</td>\n",
       "    </tr>\n",
       "    <tr>\n",
       "      <th>2</th>\n",
       "      <td>A3</td>\n",
       "      <td>17.55</td>\n",
       "      <td>Fus (112734868c1)</td>\n",
       "      <td>mESC total cDNA_20</td>\n",
       "      <td>mESC total cDNA_20Fus (112734868c1)</td>\n",
       "    </tr>\n",
       "    <tr>\n",
       "      <th>3</th>\n",
       "      <td>A4</td>\n",
       "      <td>18.49</td>\n",
       "      <td>Fus (112734868c1)</td>\n",
       "      <td>mESC total cDNA_40</td>\n",
       "      <td>mESC total cDNA_40Fus (112734868c1)</td>\n",
       "    </tr>\n",
       "    <tr>\n",
       "      <th>4</th>\n",
       "      <td>A5</td>\n",
       "      <td>18.52</td>\n",
       "      <td>Fus (112734868c1)</td>\n",
       "      <td>mESC total cDNA_40</td>\n",
       "      <td>mESC total cDNA_40Fus (112734868c1)</td>\n",
       "    </tr>\n",
       "  </tbody>\n",
       "</table>\n",
       "</div>"
      ],
      "text/plain": [
       "  Pos     Cp             Primer                Name  \\\n",
       "0  A1  17.51  Fus (112734868c1)  mESC total cDNA_20   \n",
       "1  A2  17.54  Fus (112734868c1)  mESC total cDNA_20   \n",
       "2  A3  17.55  Fus (112734868c1)  mESC total cDNA_20   \n",
       "3  A4  18.49  Fus (112734868c1)  mESC total cDNA_40   \n",
       "4  A5  18.52  Fus (112734868c1)  mESC total cDNA_40   \n",
       "\n",
       "                              NamePrim  \n",
       "0  mESC total cDNA_20Fus (112734868c1)  \n",
       "1  mESC total cDNA_20Fus (112734868c1)  \n",
       "2  mESC total cDNA_20Fus (112734868c1)  \n",
       "3  mESC total cDNA_40Fus (112734868c1)  \n",
       "4  mESC total cDNA_40Fus (112734868c1)  "
      ]
     },
     "execution_count": 2,
     "metadata": {},
     "output_type": "execute_result"
    }
   ],
   "source": [
    "import equipt\n",
    "\n",
    "primers = ['Fus (112734868c1)',\n",
    "         'Fus (15029724a1)',\n",
    "         'Ewsr1 (6679715a1)',\n",
    "         'Ewsr1 (88853580c2)',\n",
    "         'Taf15 (141803447c1)',\n",
    "         'Taf15 (141803447c2)',\n",
    "         'Tsix exon4']\n",
    "\n",
    "samples = ['mESC total cDNA']\n",
    "\n",
    "reps = 3\n",
    "\n",
    "config = 'line'\n",
    "\n",
    "kwargs = {'with_dil':samples,\n",
    "         'dil_series':[20,40,80,160],\n",
    "         'dil_rest':None} \n",
    "\n",
    "df = equipt.namer('data/22.11.22_PrimerCurve_Ct.csv',\n",
    "            primers,\n",
    "            samples,\n",
    "            reps,\n",
    "            config,\n",
    "            **kwargs)\n",
    "\n",
    "df.head()"
   ]
  },
  {
   "cell_type": "markdown",
   "id": "1d7cd514-bb67-4ffa-906a-be96b9c991e3",
   "metadata": {},
   "source": [
    "Notice that `namer()` has supplied the column 'NamePrim'. 'NamePrim' allows `averager()` to identify technical replicates by looking for wells with identical sample-primer pairs.\n",
    "\n",
    "`averager()` takes three parameters, "
   ]
  }
 ],
 "metadata": {
  "kernelspec": {
   "display_name": "Python 3 (ipykernel)",
   "language": "python",
   "name": "python3"
  },
  "language_info": {
   "codemirror_mode": {
    "name": "ipython",
    "version": 3
   },
   "file_extension": ".py",
   "mimetype": "text/x-python",
   "name": "python",
   "nbconvert_exporter": "python",
   "pygments_lexer": "ipython3",
   "version": "3.9.17"
  }
 },
 "nbformat": 4,
 "nbformat_minor": 5
}
