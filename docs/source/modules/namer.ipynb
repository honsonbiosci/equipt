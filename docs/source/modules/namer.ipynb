{
 "cells": [
  {
   "cell_type": "markdown",
   "id": "751edb23-dee8-4d68-bd89-ba0bfe73bd8a",
   "metadata": {},
   "source": [
    "# `namer()`"
   ]
  },
  {
   "cell_type": "markdown",
   "id": "a8c158ce-e386-47bf-a8a6-ee20bbb62456",
   "metadata": {},
   "source": [
    "`namer()` is the function that imports qPCR data and labels wells. The output of `namer()` is used for all subsequent equipt functions. \n",
    "\n",
    "The first step of `namer()` is a function that imports the Ct values from an .xlsx or .csv file. In the current distribution this is performed by the function `lc480_importer()`, which is specific to the data output of the Roche LightCycler 480. For other instruments and file formats the user can write their own importer and supply it to namer. The only requirements are that it outputs a Pandas Dataframe with one column named 'Pos' that contains well positions, and another named 'Cp' that contains the Ct values. `namer()` does not use the 'Pos' column, but it allows the user to easily verify that wells were accurately named."
   ]
  },
  {
   "cell_type": "markdown",
   "id": "c9ea1ea1-c6b1-4294-9e22-5ae210f47492",
   "metadata": {
    "tags": []
   },
   "source": [
    "## Using `namer()` for the Lightcycler 480"
   ]
  },
  {
   "cell_type": "code",
   "execution_count": 2,
   "id": "84f0da52-35d5-439e-8c94-12103f258b7e",
   "metadata": {
    "tags": []
   },
   "outputs": [],
   "source": [
    "import equipt\n",
    "import pandas as pd"
   ]
  },
  {
   "cell_type": "markdown",
   "id": "29abbbe1-c1c3-4d75-bdb5-f6dcfed0f2d5",
   "metadata": {},
   "source": [
    "This example uses data from an efficiency curve analysis of seven primer sets tested on four dilutions of a single cDNA sample. The first few lines of the .csv file exported by the Lightcycler 480 looks like this:"
   ]
  },
  {
   "cell_type": "code",
   "execution_count": 13,
   "id": "5d84470b-2f51-4cda-af70-310e106483b8",
   "metadata": {
    "tags": []
   },
   "outputs": [
    {
     "name": "stdout",
     "output_type": "stream",
     "text": [
      "Experiment: DH_22.11.22_PrimerCurve  Selected Filter: SYBR Green I / HRM Dye (465-510)\n",
      "Include\tColor\tPos\tName\tCp\tConcentration\tStandard\tStatus\n",
      "True\t255\tA1\tSample 1\t17.51\t\t0\t\n",
      "True\t16711680\tA2\tSample 2\t17.54\t\t0\t? - Detector Call uncertain\n",
      "True\t255\tA3\tSample 3\t17.55\t\t0\t\n",
      "True\t255\tA4\tSample 4\t18.49\t\t0\t\n",
      "True\t255\tA5\tSample 5\t18.52\t\t0\t\n",
      "True\t255\tA6\tSample 6\t18.54\t\t0\t\n",
      "True\t255\tA7\tSample 7\t19.53\t\t0\t\n",
      "True\t255\tA8\tSample 8\t19.59\t\t0\t\n",
      "True\t255\tA9\tSample 9\t19.59\t\t0\t\n",
      "True\t255\tA10\tSample 10\t20.64\t\t0\t\n"
     ]
    }
   ],
   "source": [
    "with open('data/22.11.22_PrimerCurve_Ct.csv','r') as f:\n",
    "    print(f.read()[:486])"
   ]
  },
  {
   "cell_type": "markdown",
   "id": "1271675a-f3a7-4c62-9011-3a883f0b27d7",
   "metadata": {},
   "source": [
    "The first line contains the experiment name and filter sets used, the second line contains the column names, and the remaining lines contain tab-separated values for the experiment. Before moving onto `namer()`, lets look at the output of the importer function:"
   ]
  },
  {
   "cell_type": "code",
   "execution_count": 17,
   "id": "585480d7-e857-4959-a600-19c07c9454ff",
   "metadata": {
    "tags": []
   },
   "outputs": [
    {
     "data": {
      "text/html": [
       "<div>\n",
       "<style scoped>\n",
       "    .dataframe tbody tr th:only-of-type {\n",
       "        vertical-align: middle;\n",
       "    }\n",
       "\n",
       "    .dataframe tbody tr th {\n",
       "        vertical-align: top;\n",
       "    }\n",
       "\n",
       "    .dataframe thead th {\n",
       "        text-align: right;\n",
       "    }\n",
       "</style>\n",
       "<table border=\"1\" class=\"dataframe\">\n",
       "  <thead>\n",
       "    <tr style=\"text-align: right;\">\n",
       "      <th></th>\n",
       "      <th>Pos</th>\n",
       "      <th>Cp</th>\n",
       "    </tr>\n",
       "  </thead>\n",
       "  <tbody>\n",
       "    <tr>\n",
       "      <th>0</th>\n",
       "      <td>A1</td>\n",
       "      <td>17.51</td>\n",
       "    </tr>\n",
       "    <tr>\n",
       "      <th>1</th>\n",
       "      <td>A2</td>\n",
       "      <td>17.54</td>\n",
       "    </tr>\n",
       "    <tr>\n",
       "      <th>2</th>\n",
       "      <td>A3</td>\n",
       "      <td>17.55</td>\n",
       "    </tr>\n",
       "    <tr>\n",
       "      <th>3</th>\n",
       "      <td>A4</td>\n",
       "      <td>18.49</td>\n",
       "    </tr>\n",
       "    <tr>\n",
       "      <th>4</th>\n",
       "      <td>A5</td>\n",
       "      <td>18.52</td>\n",
       "    </tr>\n",
       "    <tr>\n",
       "      <th>5</th>\n",
       "      <td>A6</td>\n",
       "      <td>18.54</td>\n",
       "    </tr>\n",
       "  </tbody>\n",
       "</table>\n",
       "</div>"
      ],
      "text/plain": [
       "  Pos     Cp\n",
       "0  A1  17.51\n",
       "1  A2  17.54\n",
       "2  A3  17.55\n",
       "3  A4  18.49\n",
       "4  A5  18.52\n",
       "5  A6  18.54"
      ]
     },
     "execution_count": 17,
     "metadata": {},
     "output_type": "execute_result"
    }
   ],
   "source": [
    "equipt.lc480_importer('data/22.11.22_PrimerCurve_Ct.csv').iloc[:6]"
   ]
  },
  {
   "cell_type": "markdown",
   "id": "974488bc-44aa-4059-815b-2e862443858a",
   "metadata": {},
   "source": [
    "The importer skips the header and strips away all columns except for 'Pos' and 'Cp'. The 'Cp' column name is important for subsequent analyses, but `namer()` only uses relative positions to name columns.\n",
    "\n",
    "We can now use namer to automatically label the wells. `namer()` uses six parameters. Their documentation is reproduced below:\n",
    "\n",
    "ct_file : str\n",
    "        Path to a CSV or Excel file containing the qPCR data. Currently only\n",
    "        data output from a Lightcycler 480 is supported, but the structure of \n",
    "        namer() allows for other importers to be written without disrupting the\n",
    "        rest of the function.\n",
    "        \n",
    "    Params\n",
    "    ______\n",
    "        \n",
    "    primers : list of strings\n",
    "        A list, in order, of the primers. See documentation for supported plate\n",
    "        arrangements.\n",
    "        \n",
    "    samples : list of strings\n",
    "        A list, in order, or the sample names. See documentation for supported\n",
    "        plate arrangements.\n",
    "        \n",
    "    reps : int\n",
    "        Number of replicate wells. 2, 3, or 4.\n",
    "        \n",
    "    config : str\n",
    "        A description of how the samples are arranged: 'square' or 'line'. See\n",
    "        documentation for additional details. Default 'line'\n",
    "        \n",
    "    importer : a custom importer function or None\n",
    "        A user-supplied function that imports data from their qPCR instrument \n",
    "        to a Pandas Dataframe with columns 'Pos', for the well position, and\n",
    "        'Cp' for the Ct values. If None, namer() defaults to an importer for\n",
    "        data from the Roche Lightcycler 480. Default None\n",
    "        \n",
    "    **kwargs : dictionary\n",
    "        \n",
    "        with_dil : list of strings\n",
    "            List of names of samples that have dilution curves.\n",
    "            \n",
    "        dil_series : list of ints\n",
    "            List of dilution factors in order on plate. Dilutions\n",
    "            should be entered as integers (e.g. a 1:10 dilution \n",
    "            should be entered as 10).\n",
    "            \n",
    "        dil_rest : int or None\n",
    "            The dilution of samples that do not have a dilution \n",
    "            series. If None, with_dil should contain all samples.\n",
    "\n",
    "The \\**kwargs parameter should only be used if one or more sample has a dilution series. Otherwise it need not be supplied. For this experiment, the following parameter values were used:"
   ]
  },
  {
   "cell_type": "code",
   "execution_count": 18,
   "id": "3a981eb6-8cd7-4fca-a7f9-ffc1f6ff58f1",
   "metadata": {
    "tags": []
   },
   "outputs": [],
   "source": [
    "primers = ['Fus (112734868c1)',\n",
    "         'Fus (15029724a1)',\n",
    "         'Ewsr1 (6679715a1)',\n",
    "         'Ewsr1 (88853580c2)',\n",
    "         'Taf15 (141803447c1)',\n",
    "         'Taf15 (141803447c2)',\n",
    "         'Tsix exon4']\n",
    "\n",
    "samples = ['mESC total cDNA']\n",
    "\n",
    "reps = 3\n",
    "\n",
    "config = 'line'\n",
    "\n",
    "kwargs = {'with_dil':samples,\n",
    "         'dil_series':[20,40,80,160],\n",
    "         'dil_rest':None}"
   ]
  },
  {
   "cell_type": "markdown",
   "id": "34dbe609-f72e-4bba-a10b-bfaf61c3f922",
   "metadata": {},
   "source": [
    "Supplying these to `namer()` gives the following output:"
   ]
  },
  {
   "cell_type": "code",
   "execution_count": 21,
   "id": "d6966b8c-10c3-43c5-ae34-fc7bfa72e267",
   "metadata": {
    "tags": []
   },
   "outputs": [
    {
     "name": "stdout",
     "output_type": "stream",
     "text": [
      "['mESC total cDNA_20', 'mESC total cDNA_40', 'mESC total cDNA_80', 'mESC total cDNA_160']\n"
     ]
    },
    {
     "data": {
      "text/html": [
       "<div>\n",
       "<style scoped>\n",
       "    .dataframe tbody tr th:only-of-type {\n",
       "        vertical-align: middle;\n",
       "    }\n",
       "\n",
       "    .dataframe tbody tr th {\n",
       "        vertical-align: top;\n",
       "    }\n",
       "\n",
       "    .dataframe thead th {\n",
       "        text-align: right;\n",
       "    }\n",
       "</style>\n",
       "<table border=\"1\" class=\"dataframe\">\n",
       "  <thead>\n",
       "    <tr style=\"text-align: right;\">\n",
       "      <th></th>\n",
       "      <th>Pos</th>\n",
       "      <th>Cp</th>\n",
       "      <th>Primer</th>\n",
       "      <th>Name</th>\n",
       "      <th>NamePrim</th>\n",
       "    </tr>\n",
       "  </thead>\n",
       "  <tbody>\n",
       "    <tr>\n",
       "      <th>0</th>\n",
       "      <td>A1</td>\n",
       "      <td>17.51</td>\n",
       "      <td>Fus (112734868c1)</td>\n",
       "      <td>mESC total cDNA_20</td>\n",
       "      <td>mESC total cDNA_20Fus (112734868c1)</td>\n",
       "    </tr>\n",
       "    <tr>\n",
       "      <th>1</th>\n",
       "      <td>A2</td>\n",
       "      <td>17.54</td>\n",
       "      <td>Fus (112734868c1)</td>\n",
       "      <td>mESC total cDNA_20</td>\n",
       "      <td>mESC total cDNA_20Fus (112734868c1)</td>\n",
       "    </tr>\n",
       "    <tr>\n",
       "      <th>2</th>\n",
       "      <td>A3</td>\n",
       "      <td>17.55</td>\n",
       "      <td>Fus (112734868c1)</td>\n",
       "      <td>mESC total cDNA_20</td>\n",
       "      <td>mESC total cDNA_20Fus (112734868c1)</td>\n",
       "    </tr>\n",
       "    <tr>\n",
       "      <th>3</th>\n",
       "      <td>A4</td>\n",
       "      <td>18.49</td>\n",
       "      <td>Fus (112734868c1)</td>\n",
       "      <td>mESC total cDNA_40</td>\n",
       "      <td>mESC total cDNA_40Fus (112734868c1)</td>\n",
       "    </tr>\n",
       "    <tr>\n",
       "      <th>4</th>\n",
       "      <td>A5</td>\n",
       "      <td>18.52</td>\n",
       "      <td>Fus (112734868c1)</td>\n",
       "      <td>mESC total cDNA_40</td>\n",
       "      <td>mESC total cDNA_40Fus (112734868c1)</td>\n",
       "    </tr>\n",
       "    <tr>\n",
       "      <th>5</th>\n",
       "      <td>A6</td>\n",
       "      <td>18.54</td>\n",
       "      <td>Fus (112734868c1)</td>\n",
       "      <td>mESC total cDNA_40</td>\n",
       "      <td>mESC total cDNA_40Fus (112734868c1)</td>\n",
       "    </tr>\n",
       "  </tbody>\n",
       "</table>\n",
       "</div>"
      ],
      "text/plain": [
       "  Pos     Cp             Primer                Name  \\\n",
       "0  A1  17.51  Fus (112734868c1)  mESC total cDNA_20   \n",
       "1  A2  17.54  Fus (112734868c1)  mESC total cDNA_20   \n",
       "2  A3  17.55  Fus (112734868c1)  mESC total cDNA_20   \n",
       "3  A4  18.49  Fus (112734868c1)  mESC total cDNA_40   \n",
       "4  A5  18.52  Fus (112734868c1)  mESC total cDNA_40   \n",
       "5  A6  18.54  Fus (112734868c1)  mESC total cDNA_40   \n",
       "\n",
       "                              NamePrim  \n",
       "0  mESC total cDNA_20Fus (112734868c1)  \n",
       "1  mESC total cDNA_20Fus (112734868c1)  \n",
       "2  mESC total cDNA_20Fus (112734868c1)  \n",
       "3  mESC total cDNA_40Fus (112734868c1)  \n",
       "4  mESC total cDNA_40Fus (112734868c1)  \n",
       "5  mESC total cDNA_40Fus (112734868c1)  "
      ]
     },
     "execution_count": 21,
     "metadata": {},
     "output_type": "execute_result"
    }
   ],
   "source": [
    "df = equipt.namer('data/22.11.22_PrimerCurve_Ct.csv',\n",
    "            primers,\n",
    "            samples,\n",
    "            reps,\n",
    "            config,\n",
    "            **kwargs)\n",
    "\n",
    "df.iloc[:6]"
   ]
  },
  {
   "cell_type": "markdown",
   "id": "87db6eb0-27f0-4104-bd8b-82cf1eae2875",
   "metadata": {},
   "source": [
    "`namer()` has correctly labeled the primer, assigned sample names with the dilution factor after an underscore, and created a column called 'NamePrim' that allows for replicate wells to be easily detected. This output can be supplied to any of the other tools in equipt."
   ]
  },
  {
   "cell_type": "markdown",
   "id": "2d0ed4af-d944-4140-92da-23a5112ab7bd",
   "metadata": {},
   "source": [
    "## Using a custom importer function with `namer()`"
   ]
  },
  {
   "cell_type": "code",
   "execution_count": null,
   "id": "2354c198-c7d6-4313-887b-d4c0910baf6c",
   "metadata": {},
   "outputs": [],
   "source": []
  }
 ],
 "metadata": {
  "kernelspec": {
   "display_name": "Python 3 (ipykernel)",
   "language": "python",
   "name": "python3"
  },
  "language_info": {
   "codemirror_mode": {
    "name": "ipython",
    "version": 3
   },
   "file_extension": ".py",
   "mimetype": "text/x-python",
   "name": "python",
   "nbconvert_exporter": "python",
   "pygments_lexer": "ipython3",
   "version": "3.9.17"
  }
 },
 "nbformat": 4,
 "nbformat_minor": 5
}
